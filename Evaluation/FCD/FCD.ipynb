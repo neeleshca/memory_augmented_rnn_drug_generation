{
  "nbformat": 4,
  "nbformat_minor": 0,
  "metadata": {
    "colab": {
      "name": "FCD.ipynb",
      "provenance": [],
      "collapsed_sections": []
    },
    "kernelspec": {
      "name": "python3",
      "display_name": "Python 3"
    },
    "language_info": {
      "name": "python"
    }
  },
  "cells": [
    {
      "cell_type": "code",
      "metadata": {
        "id": "Yci4ffNogNnB"
      },
      "source": [
        "import tensorflow as tf"
      ],
      "execution_count": 1,
      "outputs": []
    },
    {
      "cell_type": "code",
      "metadata": {
        "colab": {
          "base_uri": "https://localhost:8080/"
        },
        "id": "0xLCU_KXgjJy",
        "outputId": "727076b1-403c-495a-c999-cc256e6f39d0"
      },
      "source": [
        "!pip install rdkit-pypi"
      ],
      "execution_count": 2,
      "outputs": [
        {
          "output_type": "stream",
          "name": "stdout",
          "text": [
            "Requirement already satisfied: rdkit-pypi in /usr/local/lib/python3.7/dist-packages (2021.9.2.1)\n",
            "Requirement already satisfied: numpy>=1.19 in /usr/local/lib/python3.7/dist-packages (from rdkit-pypi) (1.19.5)\n"
          ]
        }
      ]
    },
    {
      "cell_type": "code",
      "metadata": {
        "colab": {
          "base_uri": "https://localhost:8080/"
        },
        "id": "WsRm90pwgrSa",
        "outputId": "23c13743-349e-475d-db3c-c47a4d335d0c"
      },
      "source": [
        "!pip install fcd"
      ],
      "execution_count": 3,
      "outputs": [
        {
          "output_type": "stream",
          "name": "stdout",
          "text": [
            "Requirement already satisfied: fcd in /usr/local/lib/python3.7/dist-packages (1.1)\n",
            "Requirement already satisfied: scipy in /usr/local/lib/python3.7/dist-packages (from fcd) (1.4.1)\n",
            "Requirement already satisfied: keras in /usr/local/lib/python3.7/dist-packages (from fcd) (2.7.0)\n",
            "Requirement already satisfied: numpy in /usr/local/lib/python3.7/dist-packages (from fcd) (1.19.5)\n",
            "Requirement already satisfied: tensorflow in /usr/local/lib/python3.7/dist-packages (from fcd) (2.7.0)\n",
            "Requirement already satisfied: google-pasta>=0.1.1 in /usr/local/lib/python3.7/dist-packages (from tensorflow->fcd) (0.2.0)\n",
            "Requirement already satisfied: wheel<1.0,>=0.32.0 in /usr/local/lib/python3.7/dist-packages (from tensorflow->fcd) (0.37.0)\n",
            "Requirement already satisfied: tensorflow-io-gcs-filesystem>=0.21.0 in /usr/local/lib/python3.7/dist-packages (from tensorflow->fcd) (0.22.0)\n",
            "Requirement already satisfied: tensorflow-estimator<2.8,~=2.7.0rc0 in /usr/local/lib/python3.7/dist-packages (from tensorflow->fcd) (2.7.0)\n",
            "Requirement already satisfied: flatbuffers<3.0,>=1.12 in /usr/local/lib/python3.7/dist-packages (from tensorflow->fcd) (2.0)\n",
            "Requirement already satisfied: opt-einsum>=2.3.2 in /usr/local/lib/python3.7/dist-packages (from tensorflow->fcd) (3.3.0)\n",
            "Requirement already satisfied: h5py>=2.9.0 in /usr/local/lib/python3.7/dist-packages (from tensorflow->fcd) (3.1.0)\n",
            "Requirement already satisfied: protobuf>=3.9.2 in /usr/local/lib/python3.7/dist-packages (from tensorflow->fcd) (3.17.3)\n",
            "Requirement already satisfied: gast<0.5.0,>=0.2.1 in /usr/local/lib/python3.7/dist-packages (from tensorflow->fcd) (0.4.0)\n",
            "Requirement already satisfied: six>=1.12.0 in /usr/local/lib/python3.7/dist-packages (from tensorflow->fcd) (1.15.0)\n",
            "Requirement already satisfied: keras-preprocessing>=1.1.1 in /usr/local/lib/python3.7/dist-packages (from tensorflow->fcd) (1.1.2)\n",
            "Requirement already satisfied: absl-py>=0.4.0 in /usr/local/lib/python3.7/dist-packages (from tensorflow->fcd) (0.12.0)\n",
            "Requirement already satisfied: grpcio<2.0,>=1.24.3 in /usr/local/lib/python3.7/dist-packages (from tensorflow->fcd) (1.42.0)\n",
            "Requirement already satisfied: tensorboard~=2.6 in /usr/local/lib/python3.7/dist-packages (from tensorflow->fcd) (2.7.0)\n",
            "Requirement already satisfied: libclang>=9.0.1 in /usr/local/lib/python3.7/dist-packages (from tensorflow->fcd) (12.0.0)\n",
            "Requirement already satisfied: termcolor>=1.1.0 in /usr/local/lib/python3.7/dist-packages (from tensorflow->fcd) (1.1.0)\n",
            "Requirement already satisfied: astunparse>=1.6.0 in /usr/local/lib/python3.7/dist-packages (from tensorflow->fcd) (1.6.3)\n",
            "Requirement already satisfied: wrapt>=1.11.0 in /usr/local/lib/python3.7/dist-packages (from tensorflow->fcd) (1.13.3)\n",
            "Requirement already satisfied: typing-extensions>=3.6.6 in /usr/local/lib/python3.7/dist-packages (from tensorflow->fcd) (3.10.0.2)\n",
            "Requirement already satisfied: cached-property in /usr/local/lib/python3.7/dist-packages (from h5py>=2.9.0->tensorflow->fcd) (1.5.2)\n",
            "Requirement already satisfied: werkzeug>=0.11.15 in /usr/local/lib/python3.7/dist-packages (from tensorboard~=2.6->tensorflow->fcd) (1.0.1)\n",
            "Requirement already satisfied: setuptools>=41.0.0 in /usr/local/lib/python3.7/dist-packages (from tensorboard~=2.6->tensorflow->fcd) (57.4.0)\n",
            "Requirement already satisfied: google-auth<3,>=1.6.3 in /usr/local/lib/python3.7/dist-packages (from tensorboard~=2.6->tensorflow->fcd) (1.35.0)\n",
            "Requirement already satisfied: tensorboard-plugin-wit>=1.6.0 in /usr/local/lib/python3.7/dist-packages (from tensorboard~=2.6->tensorflow->fcd) (1.8.0)\n",
            "Requirement already satisfied: tensorboard-data-server<0.7.0,>=0.6.0 in /usr/local/lib/python3.7/dist-packages (from tensorboard~=2.6->tensorflow->fcd) (0.6.1)\n",
            "Requirement already satisfied: requests<3,>=2.21.0 in /usr/local/lib/python3.7/dist-packages (from tensorboard~=2.6->tensorflow->fcd) (2.23.0)\n",
            "Requirement already satisfied: markdown>=2.6.8 in /usr/local/lib/python3.7/dist-packages (from tensorboard~=2.6->tensorflow->fcd) (3.3.6)\n",
            "Requirement already satisfied: google-auth-oauthlib<0.5,>=0.4.1 in /usr/local/lib/python3.7/dist-packages (from tensorboard~=2.6->tensorflow->fcd) (0.4.6)\n",
            "Requirement already satisfied: cachetools<5.0,>=2.0.0 in /usr/local/lib/python3.7/dist-packages (from google-auth<3,>=1.6.3->tensorboard~=2.6->tensorflow->fcd) (4.2.4)\n",
            "Requirement already satisfied: rsa<5,>=3.1.4 in /usr/local/lib/python3.7/dist-packages (from google-auth<3,>=1.6.3->tensorboard~=2.6->tensorflow->fcd) (4.7.2)\n",
            "Requirement already satisfied: pyasn1-modules>=0.2.1 in /usr/local/lib/python3.7/dist-packages (from google-auth<3,>=1.6.3->tensorboard~=2.6->tensorflow->fcd) (0.2.8)\n",
            "Requirement already satisfied: requests-oauthlib>=0.7.0 in /usr/local/lib/python3.7/dist-packages (from google-auth-oauthlib<0.5,>=0.4.1->tensorboard~=2.6->tensorflow->fcd) (1.3.0)\n",
            "Requirement already satisfied: importlib-metadata>=4.4 in /usr/local/lib/python3.7/dist-packages (from markdown>=2.6.8->tensorboard~=2.6->tensorflow->fcd) (4.8.2)\n",
            "Requirement already satisfied: zipp>=0.5 in /usr/local/lib/python3.7/dist-packages (from importlib-metadata>=4.4->markdown>=2.6.8->tensorboard~=2.6->tensorflow->fcd) (3.6.0)\n",
            "Requirement already satisfied: pyasn1<0.5.0,>=0.4.6 in /usr/local/lib/python3.7/dist-packages (from pyasn1-modules>=0.2.1->google-auth<3,>=1.6.3->tensorboard~=2.6->tensorflow->fcd) (0.4.8)\n",
            "Requirement already satisfied: urllib3!=1.25.0,!=1.25.1,<1.26,>=1.21.1 in /usr/local/lib/python3.7/dist-packages (from requests<3,>=2.21.0->tensorboard~=2.6->tensorflow->fcd) (1.24.3)\n",
            "Requirement already satisfied: idna<3,>=2.5 in /usr/local/lib/python3.7/dist-packages (from requests<3,>=2.21.0->tensorboard~=2.6->tensorflow->fcd) (2.10)\n",
            "Requirement already satisfied: certifi>=2017.4.17 in /usr/local/lib/python3.7/dist-packages (from requests<3,>=2.21.0->tensorboard~=2.6->tensorflow->fcd) (2021.10.8)\n",
            "Requirement already satisfied: chardet<4,>=3.0.2 in /usr/local/lib/python3.7/dist-packages (from requests<3,>=2.21.0->tensorboard~=2.6->tensorflow->fcd) (3.0.4)\n",
            "Requirement already satisfied: oauthlib>=3.0.0 in /usr/local/lib/python3.7/dist-packages (from requests-oauthlib>=0.7.0->google-auth-oauthlib<0.5,>=0.4.1->tensorboard~=2.6->tensorflow->fcd) (3.1.1)\n"
          ]
        }
      ]
    },
    {
      "cell_type": "code",
      "metadata": {
        "id": "31j00Ps1g8wM"
      },
      "source": [
        "import os\n",
        "\n",
        "import numpy as np\n",
        "import pandas as pd\n",
        "import pickle\n",
        "from fcd import get_fcd, load_ref_model,canonical_smiles, get_predictions, calculate_frechet_distance\n",
        "\n",
        "np.random.seed(0)"
      ],
      "execution_count": 4,
      "outputs": []
    },
    {
      "cell_type": "code",
      "metadata": {
        "id": "Ct5jpGj6hA0A"
      },
      "source": [
        "model = load_ref_model()"
      ],
      "execution_count": 5,
      "outputs": []
    },
    {
      "cell_type": "code",
      "metadata": {
        "id": "YFN2aSXPhbxy"
      },
      "source": [
        "def print_fcd(gen_mol_file, mu1, sigma1):\n",
        "  global model\n",
        "  gen_mol = pd.read_csv(gen_mol_file,header=None)[0]\n",
        "\n",
        "  sample2 = np.random.choice(gen_mol, 10000, replace=False)\n",
        "  can_sample2 = [w for w in canonical_smiles(sample2) if w is not None]\n",
        "\n",
        "  act2 = get_predictions(model, can_sample2)\n",
        "\n",
        "  mu2 = np.mean(act2, axis=0)\n",
        "  sigma2 = np.cov(act2.T)\n",
        "  fcd_score = calculate_frechet_distance(\n",
        "    mu1=mu1,\n",
        "    mu2=mu2, \n",
        "    sigma1=sigma1,\n",
        "    sigma2=sigma2)\n",
        "  return fcd_score"
      ],
      "execution_count": 6,
      "outputs": []
    },
    {
      "cell_type": "code",
      "metadata": {
        "colab": {
          "base_uri": "https://localhost:8080/"
        },
        "id": "hdI9aGjRJ1I8",
        "outputId": "8bfad891-10b8-4a45-a621-e2b5fc1cd92e"
      },
      "source": [
        "from os import listdir\n",
        "from os.path import isfile, join\n",
        "onlyfiles = [f for f in listdir('.') if isfile(join('.', f))]\n",
        "FCD_values = {}\n",
        "gen_mol = pd.read_csv('chembl_22_clean_1576904_sorted_std_final.smi', header=None)[0]\n",
        "for j in range(5):\n",
        "  np.random.seed(j)\n",
        "  sample1 = np.random.choice(gen_mol, 10000, replace=False)\n",
        "  can_sample1 = [w for w in canonical_smiles(sample1) if w is not None]\n",
        "  act1 = get_predictions(model, can_sample1)\n",
        "  mu1 = np.mean(act1, axis=0)\n",
        "  sigma1 = np.cov(act1.T)\n",
        "  for i in onlyfiles:\n",
        "    if '30k' in i:\n",
        "      print(i, j)\n",
        "      if j == 0:\n",
        "        FCD_values[i] = 0\n",
        "      FCD_values[i] = FCD_values[i] + print_fcd(i, mu1, sigma1)\n",
        "\n",
        "for i in onlyfiles:\n",
        "  if '30k' in i:\n",
        "    FCD_values[i] = FCD_values[i]/5\n",
        "\n",
        "print(FCD_values)"
      ],
      "execution_count": 7,
      "outputs": [
        {
          "output_type": "stream",
          "name": "stdout",
          "text": [
            "stack_30k_logp_max.smi 0\n",
            "dnc_30k_logp_min.smi 0\n",
            "baseline_lstm_30k_unbiased.smi 0\n",
            "stack_30k_unbiased.smi 0\n",
            "ntm_30k_benzene_min.smi 0\n",
            "ntm_30k_benzene_max.smi 0\n",
            "stack_30k_benzene_max.smi 0\n",
            "baseline_gru_30k_unbiased.smi 0\n",
            "baseline_simple_30k_unbiased.smi 0\n",
            "ntm_30k_unbiased.smi 0\n",
            "dnc_30k_benzene_max.smi 0\n",
            "dnc_30k_unbiased.smi 0\n",
            "ntm_30k_logp_min.smi 0\n",
            "dnc_30k_logp_max.smi 0\n",
            "ntm_30k_logp_max.smi 0\n",
            "dnc_30k_benzene_min.smi 0\n",
            "stack_30k_logp_min.smi 0\n",
            "stack_30k_benzene_min.smi 0\n",
            "stack_30k_logp_max.smi 1\n",
            "dnc_30k_logp_min.smi 1\n",
            "baseline_lstm_30k_unbiased.smi 1\n",
            "stack_30k_unbiased.smi 1\n",
            "ntm_30k_benzene_min.smi 1\n",
            "ntm_30k_benzene_max.smi 1\n",
            "stack_30k_benzene_max.smi 1\n",
            "baseline_gru_30k_unbiased.smi 1\n",
            "baseline_simple_30k_unbiased.smi 1\n",
            "ntm_30k_unbiased.smi 1\n",
            "dnc_30k_benzene_max.smi 1\n",
            "dnc_30k_unbiased.smi 1\n",
            "ntm_30k_logp_min.smi 1\n",
            "dnc_30k_logp_max.smi 1\n",
            "ntm_30k_logp_max.smi 1\n",
            "dnc_30k_benzene_min.smi 1\n",
            "stack_30k_logp_min.smi 1\n",
            "stack_30k_benzene_min.smi 1\n",
            "stack_30k_logp_max.smi 2\n",
            "dnc_30k_logp_min.smi 2\n",
            "baseline_lstm_30k_unbiased.smi 2\n",
            "stack_30k_unbiased.smi 2\n",
            "ntm_30k_benzene_min.smi 2\n",
            "ntm_30k_benzene_max.smi 2\n",
            "stack_30k_benzene_max.smi 2\n",
            "baseline_gru_30k_unbiased.smi 2\n",
            "baseline_simple_30k_unbiased.smi 2\n",
            "ntm_30k_unbiased.smi 2\n",
            "dnc_30k_benzene_max.smi 2\n",
            "dnc_30k_unbiased.smi 2\n",
            "ntm_30k_logp_min.smi 2\n",
            "dnc_30k_logp_max.smi 2\n",
            "ntm_30k_logp_max.smi 2\n",
            "dnc_30k_benzene_min.smi 2\n",
            "stack_30k_logp_min.smi 2\n",
            "stack_30k_benzene_min.smi 2\n",
            "stack_30k_logp_max.smi 3\n",
            "dnc_30k_logp_min.smi 3\n",
            "baseline_lstm_30k_unbiased.smi 3\n",
            "stack_30k_unbiased.smi 3\n",
            "ntm_30k_benzene_min.smi 3\n",
            "ntm_30k_benzene_max.smi 3\n",
            "stack_30k_benzene_max.smi 3\n",
            "baseline_gru_30k_unbiased.smi 3\n",
            "baseline_simple_30k_unbiased.smi 3\n",
            "ntm_30k_unbiased.smi 3\n",
            "dnc_30k_benzene_max.smi 3\n",
            "dnc_30k_unbiased.smi 3\n",
            "ntm_30k_logp_min.smi 3\n",
            "dnc_30k_logp_max.smi 3\n",
            "ntm_30k_logp_max.smi 3\n",
            "dnc_30k_benzene_min.smi 3\n",
            "stack_30k_logp_min.smi 3\n",
            "stack_30k_benzene_min.smi 3\n",
            "stack_30k_logp_max.smi 4\n",
            "dnc_30k_logp_min.smi 4\n",
            "baseline_lstm_30k_unbiased.smi 4\n",
            "stack_30k_unbiased.smi 4\n",
            "ntm_30k_benzene_min.smi 4\n",
            "ntm_30k_benzene_max.smi 4\n",
            "stack_30k_benzene_max.smi 4\n",
            "baseline_gru_30k_unbiased.smi 4\n",
            "baseline_simple_30k_unbiased.smi 4\n",
            "ntm_30k_unbiased.smi 4\n",
            "dnc_30k_benzene_max.smi 4\n",
            "dnc_30k_unbiased.smi 4\n",
            "ntm_30k_logp_min.smi 4\n",
            "dnc_30k_logp_max.smi 4\n",
            "ntm_30k_logp_max.smi 4\n",
            "dnc_30k_benzene_min.smi 4\n",
            "stack_30k_logp_min.smi 4\n",
            "stack_30k_benzene_min.smi 4\n",
            "{'stack_30k_logp_max.smi': 8.804444928305239, 'dnc_30k_logp_min.smi': 6.9168325929467045, 'baseline_lstm_30k_unbiased.smi': 0.5912900174112139, 'stack_30k_unbiased.smi': 0.5460475433498942, 'ntm_30k_benzene_min.smi': 25.988842335690663, 'ntm_30k_benzene_max.smi': 17.226944577587055, 'stack_30k_benzene_max.smi': 15.133152970601648, 'baseline_gru_30k_unbiased.smi': 1.226416423488135, 'baseline_simple_30k_unbiased.smi': 4.998389970929599, 'ntm_30k_unbiased.smi': 0.6003370726663831, 'dnc_30k_benzene_max.smi': 22.534239579154367, 'dnc_30k_unbiased.smi': 0.7056280910444457, 'ntm_30k_logp_min.smi': 8.121069622491694, 'dnc_30k_logp_max.smi': 17.892360038129894, 'ntm_30k_logp_max.smi': 18.13746065742304, 'dnc_30k_benzene_min.smi': 11.736028111123073, 'stack_30k_logp_min.smi': 10.766788660591887, 'stack_30k_benzene_min.smi': 15.188526713143734}\n"
          ]
        }
      ]
    },
    {
      "cell_type": "code",
      "metadata": {
        "colab": {
          "base_uri": "https://localhost:8080/"
        },
        "id": "bU8n81ZkR4Ti",
        "outputId": "dde1e85b-28c2-4bd0-bf6b-1e02c4e0548d"
      },
      "source": [
        "import json\n",
        "print(json.dumps(FCD_values, sort_keys=True, indent = 4))"
      ],
      "execution_count": 9,
      "outputs": [
        {
          "output_type": "stream",
          "name": "stdout",
          "text": [
            "{\n",
            "    \"baseline_gru_30k_unbiased.smi\": 1.226416423488135,\n",
            "    \"baseline_lstm_30k_unbiased.smi\": 0.5912900174112139,\n",
            "    \"baseline_simple_30k_unbiased.smi\": 4.998389970929599,\n",
            "    \"dnc_30k_benzene_max.smi\": 22.534239579154367,\n",
            "    \"dnc_30k_benzene_min.smi\": 11.736028111123073,\n",
            "    \"dnc_30k_logp_max.smi\": 17.892360038129894,\n",
            "    \"dnc_30k_logp_min.smi\": 6.9168325929467045,\n",
            "    \"dnc_30k_unbiased.smi\": 0.7056280910444457,\n",
            "    \"ntm_30k_benzene_max.smi\": 17.226944577587055,\n",
            "    \"ntm_30k_benzene_min.smi\": 25.988842335690663,\n",
            "    \"ntm_30k_logp_max.smi\": 18.13746065742304,\n",
            "    \"ntm_30k_logp_min.smi\": 8.121069622491694,\n",
            "    \"ntm_30k_unbiased.smi\": 0.6003370726663831,\n",
            "    \"stack_30k_benzene_max.smi\": 15.133152970601648,\n",
            "    \"stack_30k_benzene_min.smi\": 15.188526713143734,\n",
            "    \"stack_30k_logp_max.smi\": 8.804444928305239,\n",
            "    \"stack_30k_logp_min.smi\": 10.766788660591887,\n",
            "    \"stack_30k_unbiased.smi\": 0.5460475433498942\n",
            "}\n"
          ]
        }
      ]
    }
  ]
}